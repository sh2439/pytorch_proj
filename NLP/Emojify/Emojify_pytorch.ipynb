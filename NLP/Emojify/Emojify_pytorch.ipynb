{
 "cells": [
  {
   "cell_type": "markdown",
   "metadata": {},
   "source": [
    "# Emojify"
   ]
  },
  {
   "cell_type": "markdown",
   "metadata": {},
   "source": [
    "This project implements \"Emojify\" with Pytorch.\n",
    "\n",
    "- Input: Sentences \n",
    "- Output: Emoji (cast as numerical labels)🤔\n",
    "\n",
    "For example:\n",
    "Food is life 🍴\n",
    "\n"
   ]
  },
  {
   "cell_type": "markdown",
   "metadata": {},
   "source": [
    "## Acknowledgement"
   ]
  },
  {
   "cell_type": "markdown",
   "metadata": {},
   "source": [
    "Some ideas and the structure of the neural network come from [Coursera Deep Learning Specialization](https://www.coursera.org/specializations/deep-learning).\n",
    "\n",
    "The dataset can be download from [here](https://drive.google.com/drive/folders/1vXgzjhALvH981cNYZwlQ1wZJ_NE_Xd44?usp=sharing)."
   ]
  },
  {
   "cell_type": "markdown",
   "metadata": {},
   "source": [
    "## 1. Import Packages"
   ]
  },
  {
   "cell_type": "code",
   "execution_count": 1,
   "metadata": {},
   "outputs": [],
   "source": [
    "import numpy as np\n",
    "import pandas as pd\n",
    "import os\n",
    "import os.path as osp\n",
    "\n",
    "# import pytorch packages\n",
    "import torch\n",
    "from torch.autograd import Variable\n",
    "import torch.nn as nn\n",
    "from torch.utils import data\n",
    "\n",
    "from tqdm.auto import tqdm\n",
    "import emoji\n",
    "import ipywidgets as widgets"
   ]
  },
  {
   "cell_type": "markdown",
   "metadata": {},
   "source": [
    "## 2. Prepare the dataset"
   ]
  },
  {
   "cell_type": "markdown",
   "metadata": {},
   "source": [
    "Preview the dataset. The original datasets are in csv format. The first column '0' shows all the training data and the second column '1' shows all the labels. The ground truth labels can cast to the emojis."
   ]
  },
  {
   "cell_type": "code",
   "execution_count": 2,
   "metadata": {},
   "outputs": [
    {
     "data": {
      "text/html": [
       "<div>\n",
       "<style scoped>\n",
       "    .dataframe tbody tr th:only-of-type {\n",
       "        vertical-align: middle;\n",
       "    }\n",
       "\n",
       "    .dataframe tbody tr th {\n",
       "        vertical-align: top;\n",
       "    }\n",
       "\n",
       "    .dataframe thead th {\n",
       "        text-align: right;\n",
       "    }\n",
       "</style>\n",
       "<table border=\"1\" class=\"dataframe\">\n",
       "  <thead>\n",
       "    <tr style=\"text-align: right;\">\n",
       "      <th></th>\n",
       "      <th>0</th>\n",
       "      <th>1</th>\n",
       "      <th>2</th>\n",
       "      <th>3</th>\n",
       "    </tr>\n",
       "  </thead>\n",
       "  <tbody>\n",
       "    <tr>\n",
       "      <th>0</th>\n",
       "      <td>never talk to me again</td>\n",
       "      <td>3</td>\n",
       "      <td>NaN</td>\n",
       "      <td>NaN</td>\n",
       "    </tr>\n",
       "    <tr>\n",
       "      <th>1</th>\n",
       "      <td>I am proud of your achievements</td>\n",
       "      <td>2</td>\n",
       "      <td>NaN</td>\n",
       "      <td>NaN</td>\n",
       "    </tr>\n",
       "    <tr>\n",
       "      <th>2</th>\n",
       "      <td>It is the worst day in my life</td>\n",
       "      <td>3</td>\n",
       "      <td>NaN</td>\n",
       "      <td>NaN</td>\n",
       "    </tr>\n",
       "    <tr>\n",
       "      <th>3</th>\n",
       "      <td>Miss you so much</td>\n",
       "      <td>0</td>\n",
       "      <td>NaN</td>\n",
       "      <td>[0]</td>\n",
       "    </tr>\n",
       "    <tr>\n",
       "      <th>4</th>\n",
       "      <td>food is life</td>\n",
       "      <td>4</td>\n",
       "      <td>NaN</td>\n",
       "      <td>NaN</td>\n",
       "    </tr>\n",
       "  </tbody>\n",
       "</table>\n",
       "</div>"
      ],
      "text/plain": [
       "                                 0  1   2     3\n",
       "0           never talk to me again  3 NaN   NaN\n",
       "1  I am proud of your achievements  2 NaN   NaN\n",
       "2   It is the worst day in my life  3 NaN   NaN\n",
       "3                 Miss you so much  0 NaN   [0]\n",
       "4                     food is life  4 NaN   NaN"
      ]
     },
     "execution_count": 2,
     "metadata": {},
     "output_type": "execute_result"
    }
   ],
   "source": [
    "data_root = 'data'\n",
    "train_name = 'train_emoji.csv'\n",
    "test_name = 'tess.csv'\n",
    "\n",
    "# preview the dataset\n",
    "dataset_preview = pd.read_csv(osp.join(data_root, train_name), header = None)\n",
    "dataset_preview.head()"
   ]
  },
  {
   "cell_type": "markdown",
   "metadata": {},
   "source": [
    "Cast the labels to real emojis.🤔 "
   ]
  },
  {
   "cell_type": "code",
   "execution_count": 3,
   "metadata": {},
   "outputs": [
    {
     "name": "stdout",
     "output_type": "stream",
     "text": [
      "Check the labels and their corresponding emojis:\n",
      "\n",
      "Label:0, and its corresponding emoji:❤️\n",
      "Label:1, and its corresponding emoji:⚾\n",
      "Label:2, and its corresponding emoji:😄\n",
      "Label:3, and its corresponding emoji:😞\n",
      "Label:4, and its corresponding emoji:🍴\n",
      "\n",
      "Preview dataset:\n",
      "never talk to me again 😞\n",
      "I am proud of your achievements 😄\n",
      "It is the worst day in my life 😞\n",
      "Miss you so much ❤️\n",
      "food is life 🍴\n"
     ]
    }
   ],
   "source": [
    "def to_emoji(emoji_dict, label):\n",
    "    \"\"\" Cast a numerical label to the emoji\n",
    "    \"\"\"\n",
    "    \n",
    "    emoji_new = emoji.emojize(emoji_dict[label],use_aliases=True)\n",
    "    \n",
    "    return emoji_new\n",
    "\n",
    "emoji_dictionary = {0: \"\\u2764\\uFE0F\",    # :heart: prints a black instead of red heart depending on the font\n",
    "                    1: \":baseball:\",\n",
    "                    2: \":smile:\",\n",
    "                    3: \":disappointed:\",\n",
    "                    4: \":fork_and_knife:\"}\n",
    "\n",
    "\n",
    "print('Check the labels and their corresponding emojis:\\n')\n",
    "for label in emoji_dictionary.keys():\n",
    "\n",
    "    print('Label:{}, and its corresponding emoji:{}'.format(label, to_emoji(emoji_dictionary, label)))\n",
    "    \n",
    "print('\\nPreview dataset:')\n",
    "for i in range(5):\n",
    "    print(dataset_preview[0][i], to_emoji(emoji_dictionary, dataset_preview[1][i]))"
   ]
  },
  {
   "cell_type": "markdown",
   "metadata": {},
   "source": [
    "Build the dataset class."
   ]
  },
  {
   "cell_type": "code",
   "execution_count": 4,
   "metadata": {},
   "outputs": [],
   "source": [
    "class emoji_dataset(data.Dataset):\n",
    "    \n",
    "    def __init__(self, data_root, data_name):\n",
    "        \"\"\"\n",
    "        \"\"\"\n",
    "        \n",
    "        self.dataset = pd.read_csv(osp.join(data_root, data_name), header = None)\n",
    "        self.length = len(self.dataset)\n",
    "        self.data = self.dataset[0]\n",
    "        self.labels = self.dataset[1]\n",
    "        \n",
    "    def __len__(self):\n",
    "        return self.length\n",
    "    \n",
    "    def data(self,index):\n",
    "        \"\"\"return the data.\n",
    "        \"\"\"\n",
    "        return self.data[index]\n",
    "    \n",
    "    def label(self,index):\n",
    "        \"\"\"return the labels of dataset.\n",
    "        \"\"\"\n",
    "        return self.labels[index]\n",
    "    \n",
    "    def __getitem__(self, index):\n",
    "        \n",
    "        X = self.data[index]\n",
    "        y = self.labels[index]\n",
    "        \n",
    "        return X, y\n",
    "    \n"
   ]
  },
  {
   "cell_type": "code",
   "execution_count": 5,
   "metadata": {},
   "outputs": [
    {
     "name": "stdout",
     "output_type": "stream",
     "text": [
      "she did not answer my text  😞\n",
      "Length of training examples:132 \n",
      "length of test examples:56\n"
     ]
    }
   ],
   "source": [
    "train_dataset = emoji_dataset(data_root, train_name)\n",
    "test_dataset = emoji_dataset(data_root, test_name)\n",
    "\n",
    "print(train_dataset[10][0], to_emoji(emoji_dictionary, train_dataset[10][1]))\n",
    "\n",
    "print('Length of training examples:{} \\nlength of test examples:{}'.format(len(train_dataset), len(test_dataset)))"
   ]
  },
  {
   "cell_type": "markdown",
   "metadata": {},
   "source": [
    "## 2. Create Dataloader"
   ]
  },
  {
   "cell_type": "code",
   "execution_count": 6,
   "metadata": {},
   "outputs": [],
   "source": [
    "batch_size = 32\n",
    "\n",
    "train_loader = torch.utils.data.DataLoader(dataset = train_dataset,\n",
    "                                          shuffle = True,\n",
    "                                           batch_size = batch_size,\n",
    "                                          )\n",
    "\n",
    "test_loader = torch.utils.data.DataLoader(dataset = test_dataset,\n",
    "                                          shuffle = False,\n",
    "                                           batch_size = 8,\n",
    "                                          )"
   ]
  },
  {
   "cell_type": "markdown",
   "metadata": {},
   "source": [
    "## 3. Preprocess the dataset"
   ]
  },
  {
   "cell_type": "markdown",
   "metadata": {},
   "source": [
    "Several helper functions are needed to preprocess the dataset."
   ]
  },
  {
   "cell_type": "markdown",
   "metadata": {},
   "source": [
    "### 3.1 Read the GloVe\n",
    "Read the global vectors for word representation file. Get the word embeddings and word index."
   ]
  },
  {
   "cell_type": "code",
   "execution_count": 7,
   "metadata": {},
   "outputs": [],
   "source": [
    "\n",
    "\n",
    "name = '/home/sh2439/pytorch_tutorials/Sequence Model/Week 2/Word Vector Representation/glove.6B.50d.txt'\n",
    "\n",
    "# Read the GloVe text file and return the words.\n",
    "def read_glove(name):\n",
    "    \"\"\"Given the path/name of the glove file, return the words(set) and word2vec_map(a python dict)\n",
    "    \"\"\"\n",
    "    file = open(name, 'r')\n",
    "    # Create set for words and a dictionary for words and their corresponding  \n",
    "    words = set()\n",
    "    word2vec_map = {}\n",
    "    \n",
    "    data = file.readlines()\n",
    "    for line in data:\n",
    "        # add word to the words set.\n",
    "        word = line.split()[0]\n",
    "        words.add(word)\n",
    "        \n",
    "        word2vec_map[word] = np.array(line.split()[1:], dtype = np.float64)\n",
    "        \n",
    "    i = 1\n",
    "    word2index = {}\n",
    "    index2word = {}\n",
    "    for word in words:\n",
    "        word2index[word] = i\n",
    "        index2word[i] = word\n",
    "        i = i+1\n",
    "        \n",
    "    return words, word2vec_map, word2index, index2word\n",
    "\n",
    "# words, word2vec_map, word2index, index2word = read_glove(name)\n"
   ]
  },
  {
   "cell_type": "code",
   "execution_count": 8,
   "metadata": {},
   "outputs": [],
   "source": [
    "words, word2vec_map, word2index, index2word = read_glove(name)\n"
   ]
  },
  {
   "cell_type": "code",
   "execution_count": 9,
   "metadata": {},
   "outputs": [
    {
     "name": "stdout",
     "output_type": "stream",
     "text": [
      "Index of word hello = 253419\n",
      "Word of index 121098 = asses\n",
      "Embedding vector of word hello = [-0.38497   0.80092   0.064106 -0.28355  -0.026759 -0.34532  -0.64253\n",
      " -0.11729  -0.33257   0.55243  -0.087813  0.9035    0.47102   0.56657\n",
      "  0.6985   -0.35229  -0.86542   0.90573   0.03576  -0.071705 -0.12327\n",
      "  0.54923   0.47005   0.35572   1.2611   -0.67581  -0.94983   0.68666\n",
      "  0.3871   -1.3492    0.63512   0.46416  -0.48814   0.83827  -0.9246\n",
      " -0.33722   0.53741  -1.0616   -0.081403 -0.67111   0.30923  -0.3923\n",
      " -0.55002  -0.68827   0.58049  -0.11626   0.013139 -0.57654   0.048833\n",
      "  0.67204 ]\n"
     ]
    }
   ],
   "source": [
    "word = 'hello'\n",
    "index = 121098\n",
    "print('Index of word',word, '=', word2index[word])\n",
    "print('Word of index',index, '=', index2word[index])\n",
    "print('Embedding vector of word', word, '=', word2vec_map[word])"
   ]
  },
  {
   "cell_type": "markdown",
   "metadata": {},
   "source": [
    "### 3.2 Convert the sentences input to indices"
   ]
  },
  {
   "cell_type": "markdown",
   "metadata": {},
   "source": [
    "Define a helper function to convert sentence input numerical inputs.  \n",
    "If the length of the sentence is less than the maximum length, padd the sentence with 0."
   ]
  },
  {
   "cell_type": "code",
   "execution_count": 11,
   "metadata": {},
   "outputs": [],
   "source": [
    "def to_index(sentences, word2index, max_length):\n",
    "    \"\"\" Given the word2index dict, maximum length, and inputs, return the numerical inputs\n",
    "    \"\"\"\n",
    "    num = len(sentences)\n",
    "    out = torch.zeros(num, max_length).long()\n",
    "    \n",
    "    for idx, sen in enumerate(sentences):\n",
    "        \n",
    "        sen = sen.lower().split()\n",
    "        \n",
    "        j = 0\n",
    "        \n",
    "        for word in sen:\n",
    "            word_idx = word2index[word]\n",
    "            out[idx, j] = word_idx\n",
    "            j += 1\n",
    "            \n",
    "            if j >= max_length:\n",
    "                break\n",
    "            \n",
    "    return out"
   ]
  },
  {
   "cell_type": "code",
   "execution_count": 12,
   "metadata": {},
   "outputs": [
    {
     "name": "stdout",
     "output_type": "stream",
     "text": [
      "The input tensor of 1st sentence:  tensor([140276, 175929,  53186,  20608,  18739])\n",
      "The input tensor of 4th sentence:  tensor([136182,  46301,   5737, 300256,      0])\n",
      "tensor([[380242,      0,      0,      0,      0],\n",
      "        [360857,      0,      0,      0,      0],\n",
      "        [     0,      0,      0,      0,      0],\n",
      "        [380242,      0,      0,      0,      0],\n",
      "        [360857,      0,      0,      0,      0]])\n"
     ]
    }
   ],
   "source": [
    "out = to_index(train_dataset.data, word2index, max_length = 5)\n",
    "print('The input tensor of 1st sentence: ', out[0])\n",
    "print('The input tensor of 4th sentence: ', out[3])\n",
    "\n",
    "print(to_index('ha ha', word2index, max_length = 5))"
   ]
  },
  {
   "cell_type": "markdown",
   "metadata": {},
   "source": [
    "### 3.3 Create embedding weights"
   ]
  },
  {
   "cell_type": "code",
   "execution_count": 13,
   "metadata": {},
   "outputs": [
    {
     "name": "stdout",
     "output_type": "stream",
     "text": [
      "Size of the weights: torch.Size([400001, 50])\n"
     ]
    }
   ],
   "source": [
    "emb_weights = torch.zeros(len(word2vec_map)+1, 50)\n",
    "for word, idx in word2index.items():\n",
    "#     print(word)\n",
    "    emb_weights[idx,:] = torch.tensor(word2vec_map[word])\n",
    "\n",
    "print('Size of the weights:', emb_weights.size())"
   ]
  },
  {
   "cell_type": "markdown",
   "metadata": {},
   "source": [
    "## 4. Build the model class"
   ]
  },
  {
   "cell_type": "code",
   "execution_count": 23,
   "metadata": {},
   "outputs": [],
   "source": [
    "class Emoji_Net(nn.Module):\n",
    "    \"\"\" The emoji net uses embedding layer, lstm layer and fully-connected layer.\n",
    "    \"\"\"\n",
    "    def __init__(self,layer_num,input_dim, hidden_dim, output_dim, weights):\n",
    "        super(Emoji_Net, self).__init__()\n",
    "        self.input_dim = input_dim\n",
    "        self.layer_num = layer_num\n",
    "        self.output_dim = output_dim\n",
    "        self.hidden_dim = hidden_dim\n",
    "        \n",
    "        # the embedding layer\n",
    "        weights = weights.to(device)\n",
    "        self.embedding = nn.Embedding.from_pretrained(weights)\n",
    "        \n",
    "        # the lstm layer\n",
    "        self.lstm = nn.LSTM(input_size = self.input_dim, hidden_size = self.hidden_dim, \n",
    "                            num_layers = self.layer_num, batch_first = True, dropout = 0.8,bidirectional = True)\n",
    "        self.dropout = nn.Dropout(0.6)\n",
    "        \n",
    "        # the output layer\n",
    "        self.fc = nn.Linear(hidden_dim*2, output_dim)\n",
    "        \n",
    "    def forward(self, x):\n",
    "        \n",
    "        \n",
    "        # h0\n",
    "        h0 = Variable(torch.zeros(2*self.layer_num, x.size(0), self.hidden_dim)).to(device)\n",
    "        \n",
    "        # c0\n",
    "        c0 = Variable(torch.zeros(2*self.layer_num, x.size(0), self.hidden_dim)).to(device)\n",
    "        \n",
    "        # embedding\n",
    "        x = self.embedding(x)\n",
    "        # lstm\n",
    "        x, (hn ,cn) = self.lstm(x, (h0, c0))\n",
    "        x = self.dropout(x)\n",
    "        \n",
    "        # output layer\n",
    "        x = self.fc(x[:, -1, :])\n",
    "        \n",
    "        return x\n",
    "        "
   ]
  },
  {
   "cell_type": "markdown",
   "metadata": {},
   "source": [
    "Instantiate the model class."
   ]
  },
  {
   "cell_type": "code",
   "execution_count": 24,
   "metadata": {},
   "outputs": [
    {
     "data": {
      "text/plain": [
       "Emoji_Net(\n",
       "  (embedding): Embedding(400001, 50)\n",
       "  (lstm): LSTM(50, 128, num_layers=2, batch_first=True, dropout=0.8, bidirectional=True)\n",
       "  (dropout): Dropout(p=0.6)\n",
       "  (fc): Linear(in_features=256, out_features=5, bias=True)\n",
       ")"
      ]
     },
     "execution_count": 24,
     "metadata": {},
     "output_type": "execute_result"
    }
   ],
   "source": [
    "device = torch.device('cuda:0' if torch.cuda.is_available else 'cpu')\n",
    "\n",
    "\n",
    "layer_num = 2\n",
    "input_dim = 50\n",
    "hidden_dim = 128\n",
    "output_dim = 5\n",
    "\n",
    "\n",
    "emoji_net = Emoji_Net(layer_num, input_dim,hidden_dim, output_dim, emb_weights)\n",
    "\n",
    "emoji_net.to(device)"
   ]
  },
  {
   "cell_type": "markdown",
   "metadata": {},
   "source": [
    "## 4. Loss and Optimizer"
   ]
  },
  {
   "cell_type": "code",
   "execution_count": 25,
   "metadata": {},
   "outputs": [],
   "source": [
    "criterion = nn.CrossEntropyLoss()\n",
    "\n",
    "learning_rate = 0.001\n",
    "optimizer = torch.optim.Adam(emoji_net.parameters(), lr = learning_rate)"
   ]
  },
  {
   "cell_type": "markdown",
   "metadata": {},
   "source": [
    "## 5. Train the model"
   ]
  },
  {
   "cell_type": "markdown",
   "metadata": {},
   "source": [
    "Define save model function"
   ]
  },
  {
   "cell_type": "code",
   "execution_count": 26,
   "metadata": {},
   "outputs": [],
   "source": [
    "def save_best(is_best, best_accuracy, model, epoch, path):\n",
    "    filename = path + 'best_model.pth'\n",
    "    \n",
    "    if is_best:\n",
    "        if not osp.exists(path):\n",
    "            os.makedirs(path)\n",
    "        torch.save({'epoch':epoch,\n",
    "                   'model_state_dict':model.state_dict(),\n",
    "                    'best_accuracy':best_accuracy\n",
    "                   }, filename)\n",
    "        \n",
    "        print(best_accuracy)"
   ]
  },
  {
   "cell_type": "markdown",
   "metadata": {},
   "source": [
    "Start training..."
   ]
  },
  {
   "cell_type": "code",
   "execution_count": 27,
   "metadata": {},
   "outputs": [
    {
     "data": {
      "application/vnd.jupyter.widget-view+json": {
       "model_id": "32f209f204ec4053a485a6033f7725b9",
       "version_major": 2,
       "version_minor": 0
      },
      "text/plain": [
       "HBox(children=(IntProgress(value=0, max=200), HTML(value='')))"
      ]
     },
     "metadata": {},
     "output_type": "display_data"
    },
    {
     "name": "stdout",
     "output_type": "stream",
     "text": [
      "epoch: 0, iters: 0.0, loss: 1.6041892766952515\n",
      "Epoch: 0, Test Accuracy:26.785714285714285\n",
      "26.785714285714285\n",
      "epoch: 1, iters: 5.0, loss: 1.5980883836746216\n",
      "Epoch: 1, Test Accuracy:26.785714285714285\n",
      "epoch: 2, iters: 10.0, loss: 1.6072458028793335\n",
      "Epoch: 2, Test Accuracy:33.92857142857143\n",
      "33.92857142857143\n",
      "epoch: 3, iters: 15.0, loss: 1.5734931230545044\n",
      "Epoch: 3, Test Accuracy:33.92857142857143\n",
      "epoch: 4, iters: 20.0, loss: 1.6387484073638916\n",
      "Epoch: 4, Test Accuracy:33.92857142857143\n",
      "epoch: 5, iters: 25.0, loss: 1.627206802368164\n",
      "Epoch: 5, Test Accuracy:33.92857142857143\n",
      "epoch: 6, iters: 30.0, loss: 1.5817946195602417\n",
      "Epoch: 6, Test Accuracy:33.92857142857143\n",
      "epoch: 7, iters: 35.0, loss: 1.5441105365753174\n",
      "Epoch: 7, Test Accuracy:33.92857142857143\n",
      "epoch: 8, iters: 40.0, loss: 1.600281834602356\n",
      "Epoch: 8, Test Accuracy:33.92857142857143\n",
      "epoch: 9, iters: 45.0, loss: 1.5916743278503418\n",
      "Epoch: 9, Test Accuracy:30.357142857142858\n",
      "epoch: 10, iters: 50.0, loss: 1.4864507913589478\n",
      "Epoch: 10, Test Accuracy:39.285714285714285\n",
      "39.285714285714285\n",
      "epoch: 11, iters: 55.0, loss: 1.4949009418487549\n",
      "Epoch: 11, Test Accuracy:37.5\n",
      "epoch: 12, iters: 60.0, loss: 1.251562237739563\n",
      "Epoch: 12, Test Accuracy:32.142857142857146\n",
      "epoch: 13, iters: 65.0, loss: 1.5167356729507446\n",
      "Epoch: 13, Test Accuracy:26.785714285714285\n",
      "epoch: 14, iters: 70.0, loss: 1.406319499015808\n",
      "Epoch: 14, Test Accuracy:35.714285714285715\n",
      "epoch: 15, iters: 75.0, loss: 1.416351556777954\n",
      "Epoch: 15, Test Accuracy:35.714285714285715\n",
      "epoch: 16, iters: 80.0, loss: 1.4763743877410889\n",
      "Epoch: 16, Test Accuracy:41.07142857142857\n",
      "41.07142857142857\n",
      "epoch: 17, iters: 85.0, loss: 1.2566179037094116\n",
      "Epoch: 17, Test Accuracy:35.714285714285715\n",
      "epoch: 18, iters: 90.0, loss: 1.4612586498260498\n",
      "Epoch: 18, Test Accuracy:39.285714285714285\n",
      "epoch: 19, iters: 95.0, loss: 1.307723045349121\n",
      "Epoch: 19, Test Accuracy:37.5\n",
      "epoch: 20, iters: 100.0, loss: 1.2505323886871338\n",
      "Epoch: 20, Test Accuracy:37.5\n",
      "epoch: 21, iters: 105.0, loss: 1.1617803573608398\n",
      "Epoch: 21, Test Accuracy:39.285714285714285\n",
      "epoch: 22, iters: 110.0, loss: 1.076847791671753\n",
      "Epoch: 22, Test Accuracy:39.285714285714285\n",
      "epoch: 23, iters: 115.0, loss: 1.1262050867080688\n",
      "Epoch: 23, Test Accuracy:41.07142857142857\n",
      "epoch: 24, iters: 120.0, loss: 1.1031134128570557\n",
      "Epoch: 24, Test Accuracy:42.857142857142854\n",
      "42.857142857142854\n",
      "epoch: 25, iters: 125.0, loss: 1.1549650430679321\n",
      "Epoch: 25, Test Accuracy:41.07142857142857\n",
      "epoch: 26, iters: 130.0, loss: 1.1428910493850708\n",
      "Epoch: 26, Test Accuracy:46.42857142857143\n",
      "46.42857142857143\n",
      "epoch: 27, iters: 135.0, loss: 1.1504427194595337\n",
      "Epoch: 27, Test Accuracy:35.714285714285715\n",
      "epoch: 28, iters: 140.0, loss: 0.995895504951477\n",
      "Epoch: 28, Test Accuracy:37.5\n",
      "epoch: 29, iters: 145.0, loss: 0.9802645444869995\n",
      "Epoch: 29, Test Accuracy:39.285714285714285\n",
      "epoch: 30, iters: 150.0, loss: 0.9374333620071411\n",
      "Epoch: 30, Test Accuracy:46.42857142857143\n",
      "epoch: 31, iters: 155.0, loss: 0.8272190093994141\n",
      "Epoch: 31, Test Accuracy:48.214285714285715\n",
      "48.214285714285715\n",
      "epoch: 32, iters: 160.0, loss: 0.8171406388282776\n",
      "Epoch: 32, Test Accuracy:50.0\n",
      "50.0\n",
      "epoch: 33, iters: 165.0, loss: 0.7969174981117249\n",
      "Epoch: 33, Test Accuracy:48.214285714285715\n",
      "epoch: 34, iters: 170.0, loss: 0.6837574243545532\n",
      "Epoch: 34, Test Accuracy:50.0\n",
      "epoch: 35, iters: 175.0, loss: 0.7835224866867065\n",
      "Epoch: 35, Test Accuracy:46.42857142857143\n",
      "epoch: 36, iters: 180.0, loss: 0.7566781044006348\n",
      "Epoch: 36, Test Accuracy:48.214285714285715\n",
      "epoch: 37, iters: 185.0, loss: 0.5775030851364136\n",
      "Epoch: 37, Test Accuracy:46.42857142857143\n",
      "epoch: 38, iters: 190.0, loss: 0.6967495679855347\n",
      "Epoch: 38, Test Accuracy:48.214285714285715\n",
      "epoch: 39, iters: 195.0, loss: 0.8677160739898682\n",
      "Epoch: 39, Test Accuracy:62.5\n",
      "62.5\n",
      "epoch: 40, iters: 200.0, loss: 0.7441686987876892\n",
      "Epoch: 40, Test Accuracy:55.357142857142854\n",
      "epoch: 41, iters: 205.0, loss: 0.8055382966995239\n",
      "Epoch: 41, Test Accuracy:62.5\n",
      "epoch: 42, iters: 210.0, loss: 0.5812952518463135\n",
      "Epoch: 42, Test Accuracy:55.357142857142854\n",
      "epoch: 43, iters: 215.0, loss: 0.8208540081977844\n",
      "Epoch: 43, Test Accuracy:39.285714285714285\n",
      "epoch: 44, iters: 220.0, loss: 0.7856258153915405\n",
      "Epoch: 44, Test Accuracy:50.0\n",
      "epoch: 45, iters: 225.0, loss: 0.5457885265350342\n",
      "Epoch: 45, Test Accuracy:57.142857142857146\n",
      "epoch: 46, iters: 230.0, loss: 0.8796906471252441\n",
      "Epoch: 46, Test Accuracy:60.714285714285715\n",
      "epoch: 47, iters: 235.0, loss: 0.8084526658058167\n",
      "Epoch: 47, Test Accuracy:55.357142857142854\n",
      "epoch: 48, iters: 240.0, loss: 0.6616948843002319\n",
      "Epoch: 48, Test Accuracy:51.785714285714285\n",
      "epoch: 49, iters: 245.0, loss: 0.6944877505302429\n",
      "Epoch: 49, Test Accuracy:48.214285714285715\n",
      "epoch: 50, iters: 250.0, loss: 0.7605257034301758\n",
      "Epoch: 50, Test Accuracy:48.214285714285715\n",
      "epoch: 51, iters: 255.0, loss: 0.6212155818939209\n",
      "Epoch: 51, Test Accuracy:51.785714285714285\n",
      "epoch: 52, iters: 260.0, loss: 0.6013233661651611\n",
      "Epoch: 52, Test Accuracy:60.714285714285715\n",
      "epoch: 53, iters: 265.0, loss: 0.6144292950630188\n",
      "Epoch: 53, Test Accuracy:62.5\n",
      "epoch: 54, iters: 270.0, loss: 0.5501651763916016\n",
      "Epoch: 54, Test Accuracy:50.0\n",
      "epoch: 55, iters: 275.0, loss: 0.607316792011261\n",
      "Epoch: 55, Test Accuracy:60.714285714285715\n",
      "epoch: 56, iters: 280.0, loss: 0.5674285888671875\n",
      "Epoch: 56, Test Accuracy:58.92857142857143\n",
      "epoch: 57, iters: 285.0, loss: 0.44069144129753113\n",
      "Epoch: 57, Test Accuracy:50.0\n",
      "epoch: 58, iters: 290.0, loss: 0.5536677241325378\n",
      "Epoch: 58, Test Accuracy:53.57142857142857\n",
      "epoch: 59, iters: 295.0, loss: 0.649641215801239\n",
      "Epoch: 59, Test Accuracy:60.714285714285715\n",
      "epoch: 60, iters: 300.0, loss: 0.6321149468421936\n",
      "Epoch: 60, Test Accuracy:60.714285714285715\n",
      "epoch: 61, iters: 305.0, loss: 0.5420972108840942\n",
      "Epoch: 61, Test Accuracy:57.142857142857146\n",
      "epoch: 62, iters: 310.0, loss: 0.626309871673584\n",
      "Epoch: 62, Test Accuracy:55.357142857142854\n",
      "epoch: 63, iters: 315.0, loss: 0.5680100321769714\n",
      "Epoch: 63, Test Accuracy:60.714285714285715\n",
      "epoch: 64, iters: 320.0, loss: 0.5749503970146179\n",
      "Epoch: 64, Test Accuracy:48.214285714285715\n",
      "epoch: 65, iters: 325.0, loss: 0.7858657240867615\n",
      "Epoch: 65, Test Accuracy:37.5\n",
      "epoch: 66, iters: 330.0, loss: 1.1996119022369385\n",
      "Epoch: 66, Test Accuracy:44.642857142857146\n",
      "epoch: 67, iters: 335.0, loss: 0.7939481139183044\n",
      "Epoch: 67, Test Accuracy:55.357142857142854\n",
      "epoch: 68, iters: 340.0, loss: 0.6342693567276001\n",
      "Epoch: 68, Test Accuracy:53.57142857142857\n",
      "epoch: 69, iters: 345.0, loss: 1.2213414907455444\n",
      "Epoch: 69, Test Accuracy:55.357142857142854\n",
      "epoch: 70, iters: 350.0, loss: 0.8619711399078369\n",
      "Epoch: 70, Test Accuracy:55.357142857142854\n",
      "epoch: 71, iters: 355.0, loss: 0.5756641030311584\n",
      "Epoch: 71, Test Accuracy:53.57142857142857\n",
      "epoch: 72, iters: 360.0, loss: 0.6757216453552246\n",
      "Epoch: 72, Test Accuracy:57.142857142857146\n",
      "epoch: 73, iters: 365.0, loss: 0.7986107468605042\n",
      "Epoch: 73, Test Accuracy:64.28571428571429\n",
      "64.28571428571429\n",
      "epoch: 74, iters: 370.0, loss: 0.8073914647102356\n",
      "Epoch: 74, Test Accuracy:58.92857142857143\n",
      "epoch: 75, iters: 375.0, loss: 0.591009795665741\n",
      "Epoch: 75, Test Accuracy:60.714285714285715\n",
      "epoch: 76, iters: 380.0, loss: 0.6329838633537292\n",
      "Epoch: 76, Test Accuracy:62.5\n",
      "epoch: 77, iters: 385.0, loss: 0.554041862487793\n",
      "Epoch: 77, Test Accuracy:66.07142857142857\n",
      "66.07142857142857\n",
      "epoch: 78, iters: 390.0, loss: 0.6106200218200684\n",
      "Epoch: 78, Test Accuracy:66.07142857142857\n",
      "epoch: 79, iters: 395.0, loss: 0.7220574617385864\n",
      "Epoch: 79, Test Accuracy:64.28571428571429\n",
      "epoch: 80, iters: 400.0, loss: 0.5250066518783569\n",
      "Epoch: 80, Test Accuracy:62.5\n",
      "epoch: 81, iters: 405.0, loss: 0.4988802671432495\n",
      "Epoch: 81, Test Accuracy:62.5\n",
      "epoch: 82, iters: 410.0, loss: 0.4462854862213135\n",
      "Epoch: 82, Test Accuracy:58.92857142857143\n",
      "epoch: 83, iters: 415.0, loss: 0.898451566696167\n",
      "Epoch: 83, Test Accuracy:60.714285714285715\n",
      "epoch: 84, iters: 420.0, loss: 0.47127896547317505\n",
      "Epoch: 84, Test Accuracy:64.28571428571429\n",
      "epoch: 85, iters: 425.0, loss: 0.5606799721717834\n",
      "Epoch: 85, Test Accuracy:57.142857142857146\n",
      "epoch: 86, iters: 430.0, loss: 0.47496744990348816\n",
      "Epoch: 86, Test Accuracy:60.714285714285715\n",
      "epoch: 87, iters: 435.0, loss: 0.6155562400817871\n",
      "Epoch: 87, Test Accuracy:57.142857142857146\n",
      "epoch: 88, iters: 440.0, loss: 0.5564671754837036\n",
      "Epoch: 88, Test Accuracy:57.142857142857146\n",
      "epoch: 89, iters: 445.0, loss: 0.5616918802261353\n",
      "Epoch: 89, Test Accuracy:57.142857142857146\n",
      "epoch: 90, iters: 450.0, loss: 0.6479575634002686\n"
     ]
    },
    {
     "name": "stdout",
     "output_type": "stream",
     "text": [
      "Epoch: 90, Test Accuracy:58.92857142857143\n",
      "epoch: 91, iters: 455.0, loss: 0.40498536825180054\n",
      "Epoch: 91, Test Accuracy:66.07142857142857\n",
      "epoch: 92, iters: 460.0, loss: 0.5293780565261841\n",
      "Epoch: 92, Test Accuracy:64.28571428571429\n",
      "epoch: 93, iters: 465.0, loss: 0.4707011878490448\n",
      "Epoch: 93, Test Accuracy:67.85714285714286\n",
      "67.85714285714286\n",
      "epoch: 94, iters: 470.0, loss: 0.4830581247806549\n",
      "Epoch: 94, Test Accuracy:66.07142857142857\n",
      "epoch: 95, iters: 475.0, loss: 0.3046206831932068\n",
      "Epoch: 95, Test Accuracy:67.85714285714286\n",
      "epoch: 96, iters: 480.0, loss: 0.49340564012527466\n",
      "Epoch: 96, Test Accuracy:66.07142857142857\n",
      "epoch: 97, iters: 485.0, loss: 0.4709925055503845\n",
      "Epoch: 97, Test Accuracy:64.28571428571429\n",
      "epoch: 98, iters: 490.0, loss: 0.4788759648799896\n",
      "Epoch: 98, Test Accuracy:64.28571428571429\n",
      "epoch: 99, iters: 495.0, loss: 0.32260310649871826\n",
      "Epoch: 99, Test Accuracy:69.64285714285714\n",
      "69.64285714285714\n",
      "epoch: 100, iters: 500.0, loss: 0.36504438519477844\n",
      "Epoch: 100, Test Accuracy:73.21428571428571\n",
      "73.21428571428571\n",
      "epoch: 101, iters: 505.0, loss: 0.4185184836387634\n",
      "Epoch: 101, Test Accuracy:71.42857142857143\n",
      "epoch: 102, iters: 510.0, loss: 0.3401978015899658\n",
      "Epoch: 102, Test Accuracy:66.07142857142857\n",
      "epoch: 103, iters: 515.0, loss: 0.25180327892303467\n",
      "Epoch: 103, Test Accuracy:57.142857142857146\n",
      "epoch: 104, iters: 520.0, loss: 0.49510014057159424\n",
      "Epoch: 104, Test Accuracy:60.714285714285715\n",
      "epoch: 105, iters: 525.0, loss: 0.3534902334213257\n",
      "Epoch: 105, Test Accuracy:57.142857142857146\n",
      "epoch: 106, iters: 530.0, loss: 0.41813522577285767\n",
      "Epoch: 106, Test Accuracy:58.92857142857143\n",
      "epoch: 107, iters: 535.0, loss: 0.33322417736053467\n",
      "Epoch: 107, Test Accuracy:64.28571428571429\n",
      "epoch: 108, iters: 540.0, loss: 0.4669227600097656\n",
      "Epoch: 108, Test Accuracy:64.28571428571429\n",
      "epoch: 109, iters: 545.0, loss: 0.2845637798309326\n",
      "Epoch: 109, Test Accuracy:69.64285714285714\n",
      "epoch: 110, iters: 550.0, loss: 0.3310239017009735\n",
      "Epoch: 110, Test Accuracy:69.64285714285714\n",
      "epoch: 111, iters: 555.0, loss: 0.40073609352111816\n",
      "Epoch: 111, Test Accuracy:66.07142857142857\n",
      "epoch: 112, iters: 560.0, loss: 0.3414638638496399\n",
      "Epoch: 112, Test Accuracy:66.07142857142857\n",
      "epoch: 113, iters: 565.0, loss: 0.15866179764270782\n",
      "Epoch: 113, Test Accuracy:69.64285714285714\n",
      "epoch: 114, iters: 570.0, loss: 0.36909788846969604\n",
      "Epoch: 114, Test Accuracy:67.85714285714286\n",
      "epoch: 115, iters: 575.0, loss: 0.22557859122753143\n",
      "Epoch: 115, Test Accuracy:66.07142857142857\n",
      "epoch: 116, iters: 580.0, loss: 0.4304765462875366\n",
      "Epoch: 116, Test Accuracy:69.64285714285714\n",
      "epoch: 117, iters: 585.0, loss: 0.2738131284713745\n",
      "Epoch: 117, Test Accuracy:69.64285714285714\n",
      "epoch: 118, iters: 590.0, loss: 0.3329108953475952\n",
      "Epoch: 118, Test Accuracy:67.85714285714286\n",
      "epoch: 119, iters: 595.0, loss: 0.13495516777038574\n",
      "Epoch: 119, Test Accuracy:64.28571428571429\n",
      "epoch: 120, iters: 600.0, loss: 0.26862072944641113\n",
      "Epoch: 120, Test Accuracy:73.21428571428571\n",
      "epoch: 121, iters: 605.0, loss: 0.22282877564430237\n",
      "Epoch: 121, Test Accuracy:73.21428571428571\n",
      "epoch: 122, iters: 610.0, loss: 0.445212721824646\n",
      "Epoch: 122, Test Accuracy:67.85714285714286\n",
      "epoch: 123, iters: 615.0, loss: 0.4691259264945984\n",
      "Epoch: 123, Test Accuracy:75.0\n",
      "75.0\n",
      "epoch: 124, iters: 620.0, loss: 0.16511750221252441\n",
      "Epoch: 124, Test Accuracy:78.57142857142857\n",
      "78.57142857142857\n",
      "epoch: 125, iters: 625.0, loss: 0.3241741359233856\n",
      "Epoch: 125, Test Accuracy:69.64285714285714\n",
      "epoch: 126, iters: 630.0, loss: 0.24169358611106873\n",
      "Epoch: 126, Test Accuracy:67.85714285714286\n",
      "epoch: 127, iters: 635.0, loss: 0.29537132382392883\n",
      "Epoch: 127, Test Accuracy:75.0\n",
      "epoch: 128, iters: 640.0, loss: 0.1716465950012207\n",
      "Epoch: 128, Test Accuracy:85.71428571428571\n",
      "85.71428571428571\n",
      "epoch: 129, iters: 645.0, loss: 0.2718700170516968\n",
      "Epoch: 129, Test Accuracy:73.21428571428571\n",
      "epoch: 130, iters: 650.0, loss: 0.1716141700744629\n",
      "Epoch: 130, Test Accuracy:73.21428571428571\n",
      "epoch: 131, iters: 655.0, loss: 0.17918775975704193\n",
      "Epoch: 131, Test Accuracy:80.35714285714286\n",
      "epoch: 132, iters: 660.0, loss: 0.06394865363836288\n",
      "Epoch: 132, Test Accuracy:76.78571428571429\n",
      "epoch: 133, iters: 665.0, loss: 0.13809087872505188\n",
      "Epoch: 133, Test Accuracy:78.57142857142857\n",
      "epoch: 134, iters: 670.0, loss: 0.16381321847438812\n",
      "Epoch: 134, Test Accuracy:80.35714285714286\n",
      "epoch: 135, iters: 675.0, loss: 0.0936736986041069\n",
      "Epoch: 135, Test Accuracy:78.57142857142857\n",
      "epoch: 136, iters: 680.0, loss: 0.08239471167325974\n",
      "Epoch: 136, Test Accuracy:80.35714285714286\n",
      "epoch: 137, iters: 685.0, loss: 0.15990272164344788\n",
      "Epoch: 137, Test Accuracy:75.0\n",
      "epoch: 138, iters: 690.0, loss: 0.08817540109157562\n",
      "Epoch: 138, Test Accuracy:73.21428571428571\n",
      "epoch: 139, iters: 695.0, loss: 0.10419292747974396\n",
      "Epoch: 139, Test Accuracy:73.21428571428571\n",
      "epoch: 140, iters: 700.0, loss: 0.22047781944274902\n",
      "Epoch: 140, Test Accuracy:62.5\n",
      "epoch: 141, iters: 705.0, loss: 0.1301741898059845\n",
      "Epoch: 141, Test Accuracy:62.5\n",
      "epoch: 142, iters: 710.0, loss: 0.3762468993663788\n",
      "Epoch: 142, Test Accuracy:66.07142857142857\n",
      "epoch: 143, iters: 715.0, loss: 0.15953022241592407\n",
      "Epoch: 143, Test Accuracy:62.5\n",
      "epoch: 144, iters: 720.0, loss: 0.24378879368305206\n",
      "Epoch: 144, Test Accuracy:66.07142857142857\n",
      "epoch: 145, iters: 725.0, loss: 0.20378747582435608\n",
      "Epoch: 145, Test Accuracy:71.42857142857143\n",
      "epoch: 146, iters: 730.0, loss: 0.1702505499124527\n",
      "Epoch: 146, Test Accuracy:60.714285714285715\n",
      "epoch: 147, iters: 735.0, loss: 1.2941378355026245\n",
      "Epoch: 147, Test Accuracy:78.57142857142857\n",
      "epoch: 148, iters: 740.0, loss: 0.2840632200241089\n",
      "Epoch: 148, Test Accuracy:69.64285714285714\n",
      "epoch: 149, iters: 745.0, loss: 0.418867290019989\n",
      "Epoch: 149, Test Accuracy:66.07142857142857\n",
      "epoch: 150, iters: 750.0, loss: 0.07298612594604492\n",
      "Epoch: 150, Test Accuracy:67.85714285714286\n",
      "epoch: 151, iters: 755.0, loss: 0.31783372163772583\n",
      "Epoch: 151, Test Accuracy:69.64285714285714\n",
      "epoch: 152, iters: 760.0, loss: 0.0759596899151802\n",
      "Epoch: 152, Test Accuracy:76.78571428571429\n",
      "epoch: 153, iters: 765.0, loss: 0.19631052017211914\n",
      "Epoch: 153, Test Accuracy:75.0\n",
      "epoch: 154, iters: 770.0, loss: 0.03906171768903732\n",
      "Epoch: 154, Test Accuracy:71.42857142857143\n",
      "epoch: 155, iters: 775.0, loss: 0.1943027675151825\n",
      "Epoch: 155, Test Accuracy:78.57142857142857\n",
      "epoch: 156, iters: 780.0, loss: 0.04801006615161896\n",
      "Epoch: 156, Test Accuracy:78.57142857142857\n",
      "epoch: 157, iters: 785.0, loss: 0.023086659610271454\n",
      "Epoch: 157, Test Accuracy:76.78571428571429\n",
      "epoch: 158, iters: 790.0, loss: 0.054792046546936035\n",
      "Epoch: 158, Test Accuracy:78.57142857142857\n",
      "epoch: 159, iters: 795.0, loss: 0.2268143892288208\n",
      "Epoch: 159, Test Accuracy:78.57142857142857\n",
      "epoch: 160, iters: 800.0, loss: 0.029592067003250122\n",
      "Epoch: 160, Test Accuracy:80.35714285714286\n",
      "epoch: 161, iters: 805.0, loss: 0.09959115833044052\n",
      "Epoch: 161, Test Accuracy:76.78571428571429\n",
      "epoch: 162, iters: 810.0, loss: 0.04173678904771805\n",
      "Epoch: 162, Test Accuracy:71.42857142857143\n",
      "epoch: 163, iters: 815.0, loss: 0.22671937942504883\n",
      "Epoch: 163, Test Accuracy:73.21428571428571\n",
      "epoch: 164, iters: 820.0, loss: 0.026625774800777435\n",
      "Epoch: 164, Test Accuracy:71.42857142857143\n",
      "epoch: 165, iters: 825.0, loss: 0.02437286078929901\n",
      "Epoch: 165, Test Accuracy:73.21428571428571\n",
      "epoch: 166, iters: 830.0, loss: 0.15634363889694214\n",
      "Epoch: 166, Test Accuracy:73.21428571428571\n",
      "epoch: 167, iters: 835.0, loss: 0.1254551112651825\n",
      "Epoch: 167, Test Accuracy:73.21428571428571\n",
      "epoch: 168, iters: 840.0, loss: 0.04979722946882248\n",
      "Epoch: 168, Test Accuracy:75.0\n",
      "epoch: 169, iters: 845.0, loss: 0.06418228894472122\n",
      "Epoch: 169, Test Accuracy:73.21428571428571\n",
      "epoch: 170, iters: 850.0, loss: 0.025838665664196014\n",
      "Epoch: 170, Test Accuracy:73.21428571428571\n",
      "epoch: 171, iters: 855.0, loss: 0.02176053822040558\n",
      "Epoch: 171, Test Accuracy:73.21428571428571\n",
      "epoch: 172, iters: 860.0, loss: 0.020704925060272217\n",
      "Epoch: 172, Test Accuracy:75.0\n",
      "epoch: 173, iters: 865.0, loss: 0.127341628074646\n",
      "Epoch: 173, Test Accuracy:75.0\n",
      "epoch: 174, iters: 870.0, loss: 0.013505525887012482\n",
      "Epoch: 174, Test Accuracy:75.0\n",
      "epoch: 175, iters: 875.0, loss: 0.02517244964838028\n",
      "Epoch: 175, Test Accuracy:75.0\n",
      "epoch: 176, iters: 880.0, loss: 0.031777381896972656\n",
      "Epoch: 176, Test Accuracy:73.21428571428571\n",
      "epoch: 177, iters: 885.0, loss: 0.01151219755411148\n",
      "Epoch: 177, Test Accuracy:73.21428571428571\n",
      "epoch: 178, iters: 890.0, loss: 0.1015242487192154\n",
      "Epoch: 178, Test Accuracy:73.21428571428571\n"
     ]
    },
    {
     "name": "stdout",
     "output_type": "stream",
     "text": [
      "epoch: 179, iters: 895.0, loss: 0.01570357382297516\n",
      "Epoch: 179, Test Accuracy:73.21428571428571\n",
      "epoch: 180, iters: 900.0, loss: 0.019329704344272614\n",
      "Epoch: 180, Test Accuracy:71.42857142857143\n",
      "epoch: 181, iters: 905.0, loss: 0.018198497593402863\n",
      "Epoch: 181, Test Accuracy:71.42857142857143\n",
      "epoch: 182, iters: 910.0, loss: 0.013961859047412872\n",
      "Epoch: 182, Test Accuracy:71.42857142857143\n",
      "epoch: 183, iters: 915.0, loss: 0.016668736934661865\n",
      "Epoch: 183, Test Accuracy:71.42857142857143\n",
      "epoch: 184, iters: 920.0, loss: 0.009490370750427246\n",
      "Epoch: 184, Test Accuracy:71.42857142857143\n",
      "epoch: 185, iters: 925.0, loss: 0.010180778801441193\n",
      "Epoch: 185, Test Accuracy:78.57142857142857\n",
      "epoch: 186, iters: 930.0, loss: 0.01674092561006546\n",
      "Epoch: 186, Test Accuracy:80.35714285714286\n",
      "epoch: 187, iters: 935.0, loss: 0.20710524916648865\n",
      "Epoch: 187, Test Accuracy:82.14285714285714\n",
      "epoch: 188, iters: 940.0, loss: 0.017048537731170654\n",
      "Epoch: 188, Test Accuracy:75.0\n",
      "epoch: 189, iters: 945.0, loss: 0.1519855111837387\n",
      "Epoch: 189, Test Accuracy:76.78571428571429\n",
      "epoch: 190, iters: 950.0, loss: 0.008834511041641235\n",
      "Epoch: 190, Test Accuracy:73.21428571428571\n",
      "epoch: 191, iters: 955.0, loss: 0.0315859317779541\n",
      "Epoch: 191, Test Accuracy:76.78571428571429\n",
      "epoch: 192, iters: 960.0, loss: 0.020241469144821167\n",
      "Epoch: 192, Test Accuracy:73.21428571428571\n",
      "epoch: 193, iters: 965.0, loss: 0.5256523489952087\n",
      "Epoch: 193, Test Accuracy:78.57142857142857\n",
      "epoch: 194, iters: 970.0, loss: 0.1649569720029831\n",
      "Epoch: 194, Test Accuracy:75.0\n",
      "epoch: 195, iters: 975.0, loss: 0.7199078798294067\n",
      "Epoch: 195, Test Accuracy:71.42857142857143\n",
      "epoch: 196, iters: 980.0, loss: 0.2379755675792694\n",
      "Epoch: 196, Test Accuracy:67.85714285714286\n",
      "epoch: 197, iters: 985.0, loss: 0.24464495480060577\n",
      "Epoch: 197, Test Accuracy:66.07142857142857\n",
      "epoch: 198, iters: 990.0, loss: 0.3487861752510071\n",
      "Epoch: 198, Test Accuracy:66.07142857142857\n",
      "epoch: 199, iters: 995.0, loss: 0.27502793073654175\n",
      "Epoch: 199, Test Accuracy:73.21428571428571\n",
      "\n"
     ]
    }
   ],
   "source": [
    "num_epochs = 200\n",
    "\n",
    "is_best = False\n",
    "best_accuracy = 0\n",
    "\n",
    "for epoch in tqdm(range(int(num_epochs))):\n",
    "    emoji_net.train()\n",
    "    for batch_idx, (inputs, labels) in enumerate(train_loader):\n",
    "        \n",
    "        \n",
    "        # clear grads\n",
    "        optimizer.zero_grad()\n",
    "        \n",
    "        inputs = to_index(inputs,word2index,max_length = 15)\n",
    "        inputs = Variable(inputs).to(device)\n",
    "        \n",
    "        labels = Variable(labels).to(device)\n",
    "        \n",
    "        # forward pass\n",
    "        outputs = emoji_net(inputs)\n",
    "        \n",
    "        # get loss\n",
    "        loss = criterion(outputs, labels)\n",
    "        # backward\n",
    "        loss.backward()\n",
    "        \n",
    "        optimizer.step()\n",
    "        \n",
    "        if batch_idx % 5 == 0:\n",
    "            print('epoch: {}, iters: {}, loss: {}'.format(epoch, \n",
    "            batch_idx + epoch*np.ceil(len(train_dataset)/32), loss.item()))\n",
    "       \n",
    "\n",
    "    correct = 0\n",
    "    total = 0\n",
    "    \n",
    "    with torch.no_grad():\n",
    "        emoji_net.eval()\n",
    "        for batch_idx, (inputs, labels) in enumerate(test_loader):\n",
    "\n",
    "            inputs = to_index(inputs,word2index, max_length = 15)\n",
    "            inputs = Variable(inputs).to(device)\n",
    "            labels = Variable(labels)\n",
    "\n",
    "            outputs = emoji_net(inputs)\n",
    "            _,preds = torch.max(outputs.data, dim=1)\n",
    "\n",
    "\n",
    "            total += labels.size(0)\n",
    "            correct += float((preds.cpu() == labels).sum())\n",
    "\n",
    "        accuracy = 100* correct/total\n",
    "        print( 'Epoch: {}, Test Accuracy:{}'.format(epoch, accuracy))\n",
    "        \n",
    "        if accuracy > best_accuracy:\n",
    "            is_best = True\n",
    "            best_accuracy = accuracy\n",
    "            save_best(is_best, best_accuracy, emoji_net, epoch, 'models/')\n",
    "        else:\n",
    "            is_best = False\n",
    "       "
   ]
  },
  {
   "cell_type": "markdown",
   "metadata": {},
   "source": [
    "## 6. Test the result"
   ]
  },
  {
   "cell_type": "markdown",
   "metadata": {},
   "source": [
    "### 6.1 Load the best model"
   ]
  },
  {
   "cell_type": "code",
   "execution_count": 28,
   "metadata": {},
   "outputs": [],
   "source": [
    "\n",
    "\n",
    "saved = torch.load('models/best_model.pth')\n",
    "\n",
    "best_model = Emoji_Net(layer_num, input_dim,hidden_dim, output_dim, emb_weights)\n",
    "\n",
    "best_model.to(device)\n",
    "best_model.load_state_dict(saved['model_state_dict'])\n"
   ]
  },
  {
   "cell_type": "markdown",
   "metadata": {},
   "source": [
    "### 6.2 Test the accuracy"
   ]
  },
  {
   "cell_type": "code",
   "execution_count": 29,
   "metadata": {},
   "outputs": [
    {
     "name": "stdout",
     "output_type": "stream",
     "text": [
      "Test Accuracy:85.71428571428571\n"
     ]
    }
   ],
   "source": [
    "total = 0\n",
    "correct = 0\n",
    "\n",
    "with torch.no_grad():\n",
    "    best_model.eval()\n",
    "    for batch_idx, (inputs, labels) in enumerate(test_loader):\n",
    "\n",
    "        inputs = to_index(inputs,word2index, max_length = 15)\n",
    "        inputs = Variable(inputs).to(device)\n",
    "        labels = Variable(labels)\n",
    "\n",
    "        outputs = best_model(inputs)\n",
    "        _,preds = torch.max(outputs.data, dim=1)\n",
    "\n",
    "\n",
    "        total += labels.size(0)\n",
    "        correct += float((preds.cpu() == labels).sum())\n",
    "\n",
    "    accuracy = 100* correct/total\n",
    "    print( 'Test Accuracy:{}'.format(accuracy))\n"
   ]
  },
  {
   "cell_type": "code",
   "execution_count": 30,
   "metadata": {},
   "outputs": [
    {
     "name": "stdout",
     "output_type": "stream",
     "text": [
      "85.71428571428571\n"
     ]
    }
   ],
   "source": [
    "print(saved['best_accuracy'])"
   ]
  },
  {
   "cell_type": "markdown",
   "metadata": {},
   "source": [
    "### 6.3 Create predict function"
   ]
  },
  {
   "cell_type": "code",
   "execution_count": 39,
   "metadata": {},
   "outputs": [
    {
     "data": {
      "text/plain": [
       "'😄'"
      ]
     },
     "execution_count": 39,
     "metadata": {},
     "output_type": "execute_result"
    }
   ],
   "source": [
    "\n",
    "\n",
    "def predict(sentence, model):\n",
    "    \n",
    "    model.eval()\n",
    "    sentence = [sentence]\n",
    "    sentence = to_index(sentence, word2index, max_length = 5)\n",
    "    dim , leng = sentence.size()\n",
    "#     sentence = sentence.view(1, dim ,leng)\n",
    "    inputs = Variable(sentence).to(device)\n",
    "#     print(inputs.size())\n",
    "    outputs = model(inputs)\n",
    "    _, preds = torch.max(outputs, dim = 1)\n",
    "\n",
    "    \n",
    "    preds = to_emoji(emoji_dictionary, preds.item())\n",
    "    return preds\n",
    "\n",
    "predict('ha ha', best_model)"
   ]
  },
  {
   "cell_type": "markdown",
   "metadata": {},
   "source": [
    "### 6.4 Predict sentence"
   ]
  },
  {
   "cell_type": "code",
   "execution_count": 45,
   "metadata": {},
   "outputs": [
    {
     "data": {
      "application/vnd.jupyter.widget-view+json": {
       "model_id": "e3bd585be9c146f689446eea57f89a9b",
       "version_major": 2,
       "version_minor": 0
      },
      "text/plain": [
       "Text(value='')"
      ]
     },
     "metadata": {},
     "output_type": "display_data"
    },
    {
     "data": {
      "application/vnd.jupyter.widget-view+json": {
       "model_id": "0996e745b5a6425daa03dbf0de599c16",
       "version_major": 2,
       "version_minor": 0
      },
      "text/plain": [
       "Button(description='Convert to Emoji', style=ButtonStyle())"
      ]
     },
     "metadata": {},
     "output_type": "display_data"
    },
    {
     "name": "stdout",
     "output_type": "stream",
     "text": [
      "⚾\n"
     ]
    }
   ],
   "source": [
    "text_box = widgets.Text()\n",
    "display(text_box)\n",
    "\n",
    "btn = widgets.Button(description='Convert to Emoji')\n",
    "display(btn)\n",
    "\n",
    "def btn_eventhandler(obj):\n",
    "    \n",
    "    emoji = predict(text_box.value, best_model)\n",
    "    print(emoji)\n",
    "    \n",
    "    \n",
    "btn.on_click(btn_eventhandler)\n",
    "\n"
   ]
  },
  {
   "cell_type": "code",
   "execution_count": null,
   "metadata": {},
   "outputs": [],
   "source": []
  },
  {
   "cell_type": "code",
   "execution_count": null,
   "metadata": {},
   "outputs": [],
   "source": []
  }
 ],
 "metadata": {
  "kernelspec": {
   "display_name": "Python 3",
   "language": "python",
   "name": "python3"
  },
  "language_info": {
   "codemirror_mode": {
    "name": "ipython",
    "version": 3
   },
   "file_extension": ".py",
   "mimetype": "text/x-python",
   "name": "python",
   "nbconvert_exporter": "python",
   "pygments_lexer": "ipython3",
   "version": "3.6.8"
  }
 },
 "nbformat": 4,
 "nbformat_minor": 2
}
